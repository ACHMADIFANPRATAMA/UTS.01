{
  "nbformat": 4,
  "nbformat_minor": 0,
  "metadata": {
    "colab": {
      "provenance": [],
      "include_colab_link": true
    },
    "kernelspec": {
      "name": "python3",
      "display_name": "Python 3"
    },
    "language_info": {
      "name": "python"
    }
  },
  "cells": [
    {
      "cell_type": "markdown",
      "metadata": {
        "id": "view-in-github",
        "colab_type": "text"
      },
      "source": [
        "<a href=\"https://colab.research.google.com/github/ACHMADIFANPRATAMA/UTS.01/blob/main/UTSPraktek_PBO_PaketA.ipynb\" target=\"_parent\"><img src=\"https://colab.research.google.com/assets/colab-badge.svg\" alt=\"Open In Colab\"/></a>"
      ]
    },
    {
      "cell_type": "markdown",
      "source": [
        "**Sistem Manajemen Buku Perpustakaan**\n",
        "\n",
        "Anda adalah seorang pengembang perangkat lunak yang bekerja untuk perpustakaan besar. Perpustakaan ini memiliki kelas induk Buku dengan atribut berikut:\n",
        "*   kode unik\n",
        "*   judul\n",
        "*   nama pengarang\n",
        "*   tahun terbit\n",
        "\n",
        "Selain itu, perpustakaan ini memiliki dua jenis buku spesifik yaitu Fiksi dan Non Fiksi\n",
        "\n",
        "Buku fiksi memiliki atribut tambahan genre (genre atau jenis fiksi buku, misalnya, roman, fantasi, dll.)\n",
        "\n",
        "Sementara buku non-fiksi memiliki atribut tambahan subjek (subjek atau topik buku non-fiksi, misalnya, sejarah, sains, dll.)\n",
        "\n",
        "Manajemen perpustakaan ingin Anda membuat program Python yang memungkinkan mereka untuk mencetak informasi tentang setiap buku, termasuk kode buku, judul, pengarang, tahun terbit, serta atribut tambahan yang sesuai (genre atau subjek).\n",
        "\n",
        "Buatlah program yang terdiri dari class-class yang dibutuhkan dan program utama yang digunakan untuk menjalankan class-class yang telah dibuat.\n",
        "\n",
        "Selamat mengerjakan!"
      ],
      "metadata": {
        "id": "JXbejHFnmH53"
      }
    },
    {
      "cell_type": "code",
      "execution_count": 55,
      "metadata": {
        "id": "8oo4WH4vlUD2"
      },
      "outputs": [],
      "source": [
        "class Buku:\n",
        "    def __init__(self, kode, judul, pengarang, tahun):\n",
        "        self.kode = kode\n",
        "        self.judul = judul\n",
        "        self.pengarang = pengarang\n",
        "        self.tahun = tahun\n",
        "\n",
        "    def info(self):\n",
        "        print(\"Kode buku:\", self.kode)\n",
        "        print(\"Judul buku:\", self.judul)\n",
        "        print(\"Pengarang:\", self.pengarang)\n",
        "        print(\"Tahun terbit:\", self.tahun)\n",
        "\n",
        ""
      ]
    },
    {
      "cell_type": "code",
      "source": [
        "class BukuFiksi(Buku):\n",
        "    def __init__(self, kode, judul, pengarang, tahun, genre):\n",
        "        super().__init__(kode, judul, pengarang, tahun)\n",
        "        self.genre = genre\n",
        "\n",
        "    def info(self):\n",
        "        super().info()\n",
        "        print(\"Genre:\", self.genre)"
      ],
      "metadata": {
        "id": "DNoM9kespfIA"
      },
      "execution_count": 56,
      "outputs": []
    },
    {
      "cell_type": "code",
      "source": [
        "\n",
        "class BukuNonFiksi(Buku):\n",
        "    def __init__(self, kode, judul, pengarang, tahun, subjek):\n",
        "        super().__init__(kode, judul, pengarang, tahun)\n",
        "        self.subjek = subjek\n",
        "\n",
        "    def info(self):\n",
        "        super().info()\n",
        "        print(\"Subjek:\", self.subjek)"
      ],
      "metadata": {
        "id": "fV76ZsOapgyM"
      },
      "execution_count": 57,
      "outputs": []
    },
    {
      "cell_type": "code",
      "source": [
        "buku1 = BukuFiksi(\"98321\", \"Fiksi\", \"Ifan\", 2006, \"Fantasi\")\n",
        "buku2 = BukuNonFiksi(\"87645\", \"Non Fiksi\", \"Budi\", 2005, \"Sains\")\n",
        "\n",
        "buku1.info()\n",
        "print()\n",
        "buku2.info()\n"
      ],
      "metadata": {
        "id": "vTjvZzu1pjM6",
        "colab": {
          "base_uri": "https://localhost:8080/"
        },
        "outputId": "f67cfe60-515b-4806-82c9-cffeb509189d"
      },
      "execution_count": 61,
      "outputs": [
        {
          "output_type": "stream",
          "name": "stdout",
          "text": [
            "Kode buku: 98321\n",
            "Judul buku: Fiksi\n",
            "Pengarang: Ifan\n",
            "Tahun terbit: 2006\n",
            "Genre: Fantasi\n",
            "\n",
            "Kode buku: 87645\n",
            "Judul buku: Non Fiksi\n",
            "Pengarang: Budi\n",
            "Tahun terbit: 2005\n",
            "Subjek: Sains\n"
          ]
        }
      ]
    },
    {
      "cell_type": "markdown",
      "source": [
        "## Penjelasan\n",
        "Class ........ adalah class induk dengan ............ kode buku, judul, pengarang, dan tahun terbit. Fungsi ............ dalam kelas ini mencetak informasi umum tentang buku.\n",
        "\n",
        "Class ........ mewarisi dari class .... dan memiliki .......... tambahan genre. Fungsi ........ dalam class ini memanggil fungsi deskripsi dari class ......... dan mencetak informasi tambahan tentang buku fiksi, yaitu ........\n",
        "\n",
        "Class .......... juga mewarisi dari ...... .... dan memiliki ........ ......... subjek. Fungsi deskripsi dalam class ini juga memanggil ....... deskripsi dari class induk dan mencetak informasi tambahan tentang buku non-fiksi, yaitu ........"
      ],
      "metadata": {
        "id": "S6oTzmrXnsT5"
      }
    }
  ]
}